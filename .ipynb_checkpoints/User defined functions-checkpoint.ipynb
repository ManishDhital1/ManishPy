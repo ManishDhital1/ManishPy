{
 "cells": [
  {
   "cell_type": "code",
   "execution_count": 10,
   "id": "1b1c1c1c-8c67-4c30-8dda-41d76a7e49aa",
   "metadata": {},
   "outputs": [
    {
     "name": "stdout",
     "output_type": "stream",
     "text": [
      "233\n"
     ]
    }
   ],
   "source": [
    "def fibonacci(n):\n",
    "    if n==0:\n",
    "        return 0\n",
    "    elif n==1:\n",
    "        return 1\n",
    "    else:\n",
    "        return fibonacci(n-1) + fibonacci(n-2)\n",
    "res = fibonacci(13)    \n",
    "print(res)\n",
    "    "
   ]
  },
  {
   "cell_type": "code",
   "execution_count": 20,
   "id": "3a3bfa60-ebed-445d-b3a3-27dc83a49aa9",
   "metadata": {},
   "outputs": [
    {
     "ename": "UnboundLocalError",
     "evalue": "cannot access local variable 'res' where it is not associated with a value",
     "output_type": "error",
     "traceback": [
      "\u001b[1;31m---------------------------------------------------------------------------\u001b[0m",
      "\u001b[1;31mUnboundLocalError\u001b[0m                         Traceback (most recent call last)",
      "Cell \u001b[1;32mIn[20], line 8\u001b[0m\n\u001b[0;32m      6\u001b[0m         n \u001b[38;5;241m=\u001b[39m n\u001b[38;5;241m-\u001b[39m\u001b[38;5;241m1\u001b[39m\n\u001b[0;32m      7\u001b[0m         res \u001b[38;5;241m=\u001b[39m n \u001b[38;5;241m*\u001b[39m res\n\u001b[1;32m----> 8\u001b[0m r \u001b[38;5;241m=\u001b[39m \u001b[43mfactorial\u001b[49m\u001b[43m(\u001b[49m\u001b[38;5;241;43m5\u001b[39;49m\u001b[43m)\u001b[49m\n\u001b[0;32m      9\u001b[0m \u001b[38;5;28mprint\u001b[39m(res)\n",
      "Cell \u001b[1;32mIn[20], line 7\u001b[0m, in \u001b[0;36mfactorial\u001b[1;34m(n)\u001b[0m\n\u001b[0;32m      5\u001b[0m \u001b[38;5;28;01melse\u001b[39;00m:\n\u001b[0;32m      6\u001b[0m     n \u001b[38;5;241m=\u001b[39m n\u001b[38;5;241m-\u001b[39m\u001b[38;5;241m1\u001b[39m\n\u001b[1;32m----> 7\u001b[0m     res \u001b[38;5;241m=\u001b[39m n \u001b[38;5;241m*\u001b[39m \u001b[43mres\u001b[49m\n",
      "\u001b[1;31mUnboundLocalError\u001b[0m: cannot access local variable 'res' where it is not associated with a value"
     ]
    }
   ],
   "source": [
    "res = 1\n",
    "def factorial (n):\n",
    "    if n == 0:\n",
    "         print(\"end\")\n",
    "    else:\n",
    "        n = n-1\n",
    "        res = n * res\n",
    "r = factorial(5)\n",
    "print(res)"
   ]
  },
  {
   "cell_type": "code",
   "execution_count": 24,
   "id": "747f6e68-f56c-48ec-95d6-6d6e2c3c2e3b",
   "metadata": {},
   "outputs": [],
   "source": [
    "def mult(x):\n",
    "    return x*2"
   ]
  },
  {
   "cell_type": "code",
   "execution_count": null,
   "id": "2f98bb76-2076-4836-a0f0-97c048b15e6f",
   "metadata": {},
   "outputs": [],
   "source": [
    "\n",
    "\n"
   ]
  },
  {
   "cell_type": "code",
   "execution_count": 25,
   "id": "8033caad-33e1-42b8-8086-916d6d9980fb",
   "metadata": {},
   "outputs": [
    {
     "data": {
      "text/plain": [
       "[4, 8, 12, 16, 18, 2, 28]"
      ]
     },
     "execution_count": 25,
     "metadata": {},
     "output_type": "execute_result"
    }
   ],
   "source": [
    "my_list = [2,4,6,8,9,1,14]\n",
    "map_obj = list(map(lambda y:y*2, my_list))\n",
    "map_obj"
   ]
  },
  {
   "cell_type": "code",
   "execution_count": 27,
   "id": "2461a2b1-2b6a-4dbf-ad83-38d5af249a9e",
   "metadata": {},
   "outputs": [],
   "source": [
    "from functools import reduce"
   ]
  },
  {
   "cell_type": "code",
   "execution_count": 29,
   "id": "2f3757ea-2cea-4d90-84b1-3ad571381230",
   "metadata": {},
   "outputs": [
    {
     "name": "stdout",
     "output_type": "stream",
     "text": [
      "120\n"
     ]
    }
   ],
   "source": [
    "#factorial\n",
    "\n",
    "my_list = [1,2,3,4,5]\n",
    "product = reduce(lambda x,y: x*y, my_list)\n",
    "print (product)"
   ]
  },
  {
   "cell_type": "code",
   "execution_count": null,
   "id": "47e13df5-fc59-4258-b805-0d369fb568d3",
   "metadata": {},
   "outputs": [],
   "source": [
    "my_list = [1,2,3,4,5]\n",
    "initial_value = 10\n",
    "product = reduce(lambda x,y: x*y, my_list, initial_value)\n",
    "print (product)"
   ]
  }
 ],
 "metadata": {
  "kernelspec": {
   "display_name": "Python 3 (ipykernel)",
   "language": "python",
   "name": "python3"
  },
  "language_info": {
   "codemirror_mode": {
    "name": "ipython",
    "version": 3
   },
   "file_extension": ".py",
   "mimetype": "text/x-python",
   "name": "python",
   "nbconvert_exporter": "python",
   "pygments_lexer": "ipython3",
   "version": "3.12.5"
  }
 },
 "nbformat": 4,
 "nbformat_minor": 5
}
