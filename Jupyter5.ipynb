{
 "cells": [
  {
   "cell_type": "code",
   "execution_count": 1,
   "id": "c320e20b-a328-458b-ac9f-7d0241aa8233",
   "metadata": {},
   "outputs": [
    {
     "name": "stdout",
     "output_type": "stream",
     "text": [
      "(2, 3)\n"
     ]
    }
   ],
   "source": [
    "a = (1, 2, 3, 4, 5)\n",
    "print(a[1:3])"
   ]
  },
  {
   "cell_type": "code",
   "execution_count": 2,
   "id": "3539784f-676a-4310-ac9d-75a1f85ef9ab",
   "metadata": {},
   "outputs": [
    {
     "data": {
      "text/plain": [
       "tuple"
      ]
     },
     "execution_count": 2,
     "metadata": {},
     "output_type": "execute_result"
    }
   ],
   "source": [
    "type(a)\n"
   ]
  },
  {
   "cell_type": "code",
   "execution_count": 3,
   "id": "1f48296e-d8d0-47de-af21-4549f7d18fdb",
   "metadata": {},
   "outputs": [],
   "source": [
    "b=[1,5,7,3]"
   ]
  },
  {
   "cell_type": "code",
   "execution_count": 4,
   "id": "874980da-4f4b-457e-b998-f03b5337eed3",
   "metadata": {},
   "outputs": [
    {
     "data": {
      "text/plain": [
       "list"
      ]
     },
     "execution_count": 4,
     "metadata": {},
     "output_type": "execute_result"
    }
   ],
   "source": [
    "type(b)"
   ]
  },
  {
   "cell_type": "code",
   "execution_count": 5,
   "id": "8f074bbd-98d2-4d3b-934b-fd5403e43dd4",
   "metadata": {},
   "outputs": [],
   "source": [
    "c={1,2,3,4,0}"
   ]
  },
  {
   "cell_type": "code",
   "execution_count": 6,
   "id": "5861b4e4-5eb6-4ea1-a834-3518299b5e7f",
   "metadata": {},
   "outputs": [
    {
     "data": {
      "text/plain": [
       "set"
      ]
     },
     "execution_count": 6,
     "metadata": {},
     "output_type": "execute_result"
    }
   ],
   "source": [
    "type(c)"
   ]
  },
  {
   "cell_type": "code",
   "execution_count": 8,
   "id": "37a7fb14-73b4-479b-b795-1c28636547a9",
   "metadata": {},
   "outputs": [
    {
     "data": {
      "text/plain": [
       "set"
      ]
     },
     "execution_count": 8,
     "metadata": {},
     "output_type": "execute_result"
    }
   ],
   "source": [
    "a = ({1, 2, 3, 4, 5})\n",
    "type (a)"
   ]
  },
  {
   "cell_type": "code",
   "execution_count": 12,
   "id": "1cdbdcd8-b41c-4772-9f44-429dff8d6ac7",
   "metadata": {},
   "outputs": [
    {
     "data": {
      "text/plain": [
       "{'a', 'b', 'c', 'd', 'e', 'f', 'g', 'h'}"
      ]
     },
     "execution_count": 12,
     "metadata": {},
     "output_type": "execute_result"
    }
   ],
   "source": [
    "q= \"abcdefgh\"\n",
    "w= set(q)\n",
    "w\n"
   ]
  },
  {
   "cell_type": "code",
   "execution_count": 14,
   "id": "289fe3a2-3780-450a-b169-730cb268f7de",
   "metadata": {},
   "outputs": [
    {
     "data": {
      "text/plain": [
       "{1, 2, 3, 4, 5}"
      ]
     },
     "execution_count": 14,
     "metadata": {},
     "output_type": "execute_result"
    }
   ],
   "source": [
    "r={1,2,3,4,5,1}\n",
    "r"
   ]
  },
  {
   "cell_type": "code",
   "execution_count": 21,
   "id": "a8f5e46a-54d6-4d5f-95be-1974fb10432a",
   "metadata": {},
   "outputs": [
    {
     "data": {
      "text/plain": [
       "{'a', 'c', 'd', 'e', 'f', 'h', 'j', 'k', 's', 'u', 'v', 'w', 'y'}"
      ]
     },
     "execution_count": 21,
     "metadata": {},
     "output_type": "execute_result"
    }
   ],
   "source": [
    "aa = {*\"asdjhfdkuyevfvwhecfasyuv\"}\n",
    "aa"
   ]
  },
  {
   "cell_type": "code",
   "execution_count": 22,
   "id": "f3280180-d26c-47db-a663-c662c9425aeb",
   "metadata": {},
   "outputs": [
    {
     "data": {
      "text/plain": [
       "{'a', 'c', 'd', 'e', 'f', 'h', 'j', 'k', 's', 'u', 'v', 'w', 'y'}"
      ]
     },
     "execution_count": 22,
     "metadata": {},
     "output_type": "execute_result"
    }
   ],
   "source": [
    "ab= set(aa)\n",
    "ab"
   ]
  },
  {
   "cell_type": "code",
   "execution_count": 23,
   "id": "78a8e0c8-45c6-4a5f-8618-6cc1c7a9da4e",
   "metadata": {},
   "outputs": [
    {
     "data": {
      "text/plain": [
       "13"
      ]
     },
     "execution_count": 23,
     "metadata": {},
     "output_type": "execute_result"
    }
   ],
   "source": [
    "len(ab)"
   ]
  },
  {
   "cell_type": "code",
   "execution_count": null,
   "id": "b02a2e0d-6736-4b9a-a3b0-5b7415e5b957",
   "metadata": {},
   "outputs": [],
   "source": []
  },
  {
   "cell_type": "code",
   "execution_count": 33,
   "id": "6738008b-17f0-4222-bf99-bc7cdcf6c54a",
   "metadata": {},
   "outputs": [
    {
     "data": {
      "text/plain": [
       "{'name': 'Manish', 'age': 26, 'city': 'Kathmandu'}"
      ]
     },
     "execution_count": 33,
     "metadata": {},
     "output_type": "execute_result"
    }
   ],
   "source": [
    "Info = {\"name\": \"Manish\",\n",
    "        \"age\": 26,\n",
    "        \"city\": \"Kathmandu\"}\n",
    "Info"
   ]
  },
  {
   "cell_type": "code",
   "execution_count": 29,
   "id": "a7de96c8-6251-41f5-bd8c-6ff4801d123b",
   "metadata": {},
   "outputs": [
    {
     "name": "stdout",
     "output_type": "stream",
     "text": [
      "Manish\n"
     ]
    }
   ],
   "source": [
    "print(Info[\"name\"])"
   ]
  },
  {
   "cell_type": "code",
   "execution_count": 60,
   "id": "49471397-a188-4d08-894b-9fd6331250a0",
   "metadata": {},
   "outputs": [
    {
     "data": {
      "text/plain": [
       "{'name': 'RS', 'age': 36, 'city': 'Lalitpur'}"
      ]
     },
     "execution_count": 60,
     "metadata": {},
     "output_type": "execute_result"
    }
   ],
   "source": [
    "Inf = dict(name=\"RS\", age=36, city=\"Lalitpur\")\n",
    "Inf"
   ]
  },
  {
   "cell_type": "code",
   "execution_count": 65,
   "id": "bc99a103-fa6e-4272-ad2b-d466a6c8ef13",
   "metadata": {},
   "outputs": [
    {
     "data": {
      "text/plain": [
       "{'name': 'RS', 'city': 'Lalitpur', 'Gender': 'male', 'age': 37}"
      ]
     },
     "execution_count": 65,
     "metadata": {},
     "output_type": "execute_result"
    }
   ],
   "source": [
    "Inf[\"age\"] = 37\n",
    "Inf"
   ]
  },
  {
   "cell_type": "code",
   "execution_count": 66,
   "id": "6cf53521-85a4-47fb-9d69-1664227e0e5d",
   "metadata": {},
   "outputs": [
    {
     "data": {
      "text/plain": [
       "{'name': 'RS', 'city': 'Lalitpur', 'Gender': 'male', 'age': 37}"
      ]
     },
     "execution_count": 66,
     "metadata": {},
     "output_type": "execute_result"
    }
   ],
   "source": [
    "Inf[\"Gender\"]=\"male\"\n",
    "Inf"
   ]
  },
  {
   "cell_type": "code",
   "execution_count": 67,
   "id": "4cb7875c-fba1-4b2a-896c-639c4f885ba5",
   "metadata": {},
   "outputs": [],
   "source": [
    "del Inf[\"age\"]"
   ]
  },
  {
   "cell_type": "code",
   "execution_count": 68,
   "id": "18f9df14-3e7c-406c-825f-577f1e7c87f0",
   "metadata": {},
   "outputs": [
    {
     "data": {
      "text/plain": [
       "{'name': 'RS', 'city': 'Lalitpur', 'Gender': 'male'}"
      ]
     },
     "execution_count": 68,
     "metadata": {},
     "output_type": "execute_result"
    }
   ],
   "source": [
    "Inf"
   ]
  },
  {
   "cell_type": "code",
   "execution_count": 70,
   "id": "7dcd74bc-c44f-4e19-ad53-bb1510338a68",
   "metadata": {},
   "outputs": [
    {
     "name": "stdout",
     "output_type": "stream",
     "text": [
      "dict_keys(['name', 'city', 'Gender'])\n"
     ]
    }
   ],
   "source": [
    "print(Inf.keys())"
   ]
  },
  {
   "cell_type": "code",
   "execution_count": 3,
   "id": "9d18b5a5-4107-400d-a042-958db7b1c28d",
   "metadata": {},
   "outputs": [],
   "source": [
    "a=5<=10"
   ]
  },
  {
   "cell_type": "code",
   "execution_count": 4,
   "id": "548872ca-fc00-497d-9b54-87c6feb69ade",
   "metadata": {},
   "outputs": [
    {
     "data": {
      "text/plain": [
       "True"
      ]
     },
     "execution_count": 4,
     "metadata": {},
     "output_type": "execute_result"
    }
   ],
   "source": [
    "a"
   ]
  },
  {
   "cell_type": "code",
   "execution_count": 14,
   "id": "08bbf650-d14b-4b65-bc84-4eab0cbea38c",
   "metadata": {},
   "outputs": [
    {
     "data": {
      "text/plain": [
       "True"
      ]
     },
     "execution_count": 14,
     "metadata": {},
     "output_type": "execute_result"
    }
   ],
   "source": [
    "h=0.00122344\n",
    "bool(h)"
   ]
  },
  {
   "cell_type": "code",
   "execution_count": 15,
   "id": "e865c630-d682-4db4-b269-8cff4a02ff42",
   "metadata": {},
   "outputs": [],
   "source": [
    "sa={\"c\",\"d\",\"e\",5,\"g\"}"
   ]
  },
  {
   "cell_type": "code",
   "execution_count": 13,
   "id": "7b7c7094-b72c-41cc-ab91-fba2d85198c5",
   "metadata": {},
   "outputs": [
    {
     "data": {
      "text/plain": [
       "True"
      ]
     },
     "execution_count": 13,
     "metadata": {},
     "output_type": "execute_result"
    }
   ],
   "source": [
    "bool(sa)"
   ]
  },
  {
   "cell_type": "code",
   "execution_count": null,
   "id": "e1c28041-657d-49ed-9e64-ed8376e20e2d",
   "metadata": {},
   "outputs": [],
   "source": []
  },
  {
   "cell_type": "code",
   "execution_count": 31,
   "id": "d7eead4c-9401-413b-9646-741d836e1119",
   "metadata": {},
   "outputs": [
    {
     "name": "stdout",
     "output_type": "stream",
     "text": [
      "X is bigger\n",
      "Hey\n"
     ]
    }
   ],
   "source": [
    "x=40\n",
    "\n",
    "a=35\n",
    "\n",
    "if x>a:\n",
    "    print(\"X is bigger\")\n",
    "    print(\"Hey\")\n",
    "else:\n",
    "    print(\"HEllo\")"
   ]
  },
  {
   "cell_type": "code",
   "execution_count": null,
   "id": "b2ffc872-ebac-49a7-a572-12bbb7b02cbd",
   "metadata": {},
   "outputs": [],
   "source": []
  },
  {
   "cell_type": "code",
   "execution_count": 12,
   "id": "cebc948c-29ce-4032-86a1-3dd860a1f86e",
   "metadata": {},
   "outputs": [
    {
     "name": "stdout",
     "output_type": "stream",
     "text": [
      "Even\n"
     ]
    }
   ],
   "source": [
    "X=-2\n",
    "x=int(X)\n",
    "if x%2==0:\n",
    "    print(\"Even\")\n",
    "else:\n",
    "    print(\"odd\")\n",
    "\n",
    "\n",
    "\n",
    "\n"
   ]
  },
  {
   "cell_type": "code",
   "execution_count": 18,
   "id": "0facc2ad-096b-4b01-8c6a-358291de3932",
   "metadata": {},
   "outputs": [
    {
     "name": "stdout",
     "output_type": "stream",
     "text": [
      "Grade A\n"
     ]
    }
   ],
   "source": [
    "Marks = 88\n",
    "if Marks<40:\n",
    "    print(\"Grade D\")\n",
    "elif Marks>=40 and Marks<60:\n",
    "    print(\"Grade C\")\n",
    "elif Marks>=60 and Marks<80:\n",
    "    print(\"Grade B\")\n",
    "else:\n",
    "    print(\"Grade A\")\n",
    "\n"
   ]
  },
  {
   "cell_type": "code",
   "execution_count": 24,
   "id": "7bd14659-4b1f-41e7-9680-059f05b0e544",
   "metadata": {},
   "outputs": [
    {
     "name": "stdout",
     "output_type": "stream",
     "text": [
      "Good. apple\n",
      "Good. banana\n",
      "Good. kiwi\n",
      "Good. mango\n"
     ]
    }
   ],
   "source": [
    "fruits = [\"apple\", \"banana\", \"kiwi\", \"mango\"]\n",
    "for fruit in fruits:\n",
    "    print(\"Good.\", fruit)\n",
    "\n",
    "\n",
    "\n",
    "\n",
    "\n",
    "\n",
    "\n",
    "\n",
    "\n",
    "\n",
    "\n",
    "\n",
    "\n",
    "\n",
    "\n",
    "\n",
    "\n",
    "\n",
    "\n",
    "\n",
    "\n"
   ]
  },
  {
   "cell_type": "code",
   "execution_count": 39,
   "id": "9bdb70c0-fad7-4901-b7bc-c3376d31ea9e",
   "metadata": {},
   "outputs": [
    {
     "name": "stdout",
     "output_type": "stream",
     "text": [
      "55\n"
     ]
    },
    {
     "data": {
      "text/plain": [
       "'or a=+i'"
      ]
     },
     "execution_count": 39,
     "metadata": {},
     "output_type": "execute_result"
    }
   ],
   "source": [
    "N = 10\n",
    "a = 0\n",
    "for i in range (N+1):\n",
    "    a = a+i\n",
    "print(a)\n",
    "\n",
    "\n",
    "\n",
    "\n",
    "\"\"or a=+i\"\"\"\n",
    "\n",
    "\n",
    "\n",
    "\n",
    "\n",
    "\n",
    "\n",
    "\n",
    "\n"
   ]
  },
  {
   "cell_type": "code",
   "execution_count": null,
   "id": "22a536b6-bca6-4d24-bd96-a4b4d621c428",
   "metadata": {},
   "outputs": [],
   "source": []
  },
  {
   "cell_type": "code",
   "execution_count": null,
   "id": "f99399f1-6ece-4db9-860f-957e547dcbcf",
   "metadata": {},
   "outputs": [],
   "source": []
  }
 ],
 "metadata": {
  "kernelspec": {
   "display_name": "Python 3 (ipykernel)",
   "language": "python",
   "name": "python3"
  },
  "language_info": {
   "codemirror_mode": {
    "name": "ipython",
    "version": 3
   },
   "file_extension": ".py",
   "mimetype": "text/x-python",
   "name": "python",
   "nbconvert_exporter": "python",
   "pygments_lexer": "ipython3",
   "version": "3.12.5"
  }
 },
 "nbformat": 4,
 "nbformat_minor": 5
}
