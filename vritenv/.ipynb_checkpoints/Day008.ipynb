{
 "cells": [
  {
   "cell_type": "code",
   "execution_count": 1,
   "id": "0df8fbbc-57ff-4b7a-a0a6-de25c043d405",
   "metadata": {},
   "outputs": [
    {
     "name": "stdout",
     "output_type": "stream",
     "text": [
      "{1: 1, 3: 9, 5: 25}\n"
     ]
    }
   ],
   "source": [
    "odds_dict ={}\n",
    "for num in range (1,6):\n",
    "    if num%2!=0:\n",
    "        odds_dict[num]=num**2\n",
    "print(odds_dict)\n"
   ]
  },
  {
   "cell_type": "code",
   "execution_count": 3,
   "id": "48bbe04d-824b-4504-82d6-79623a8fb06e",
   "metadata": {},
   "outputs": [
    {
     "name": "stdout",
     "output_type": "stream",
     "text": [
      "{1: 1, 3: 9, 5: 25}\n"
     ]
    }
   ],
   "source": [
    "num = {1,2,3,4,5}\n",
    "odds = {num: num**2 for num in num if num%2!=0}\n",
    "print(odds_dict)"
   ]
  },
  {
   "cell_type": "code",
   "execution_count": 6,
   "id": "2a0639fe-3118-43b2-8ba0-a3a3ff27f7da",
   "metadata": {},
   "outputs": [
    {
     "name": "stdout",
     "output_type": "stream",
     "text": [
      "{'learning', 'data', 'machine', 'science'}\n"
     ]
    }
   ],
   "source": [
    "word = [\"data\", \"science\", \"machine\", \"learning\"]\n",
    "for i in word:\n",
    "    words = set(word)\n",
    "    print(words)\n",
    "\n",
    "\n"
   ]
  },
  {
   "cell_type": "code",
   "execution_count": 4,
   "id": "520a7e5a-11cc-4458-ab1f-d3ff745bcd54",
   "metadata": {},
   "outputs": [
    {
     "name": "stdout",
     "output_type": "stream",
     "text": [
      "dictionary : 10\n",
      "comprehensions : 14\n",
      "creates : 7\n",
      "complex : 7\n",
      "create : 6\n",
      "counts : 6\n",
      "example : 7\n",
      "allowing : 8\n",
      "Dictionary : 10\n",
      "dictionaries. : 13\n",
      "nested, : 7\n",
      "letter : 6\n"
     ]
    }
   ],
   "source": [
    "word = ['Dictionary', 'comprehensions', 'can', 'also', 'be', 'nested,', 'allowing', 'you', 'to', 'create', 'more', 'complex', 'dictionaries.', 'Here', 'is', 'an', 'example', 'that', 'creates', 'a', 'dictionary', 'of', 'letter','counts']\n",
    "\"\"\"print (word.lower())\"\"\"\n",
    "a = set(word)\n",
    "\n",
    "for i in a:\n",
    "    #i = i.lower()\n",
    "    b = len(i)\n",
    "    if b>=5:\n",
    "        print(i,\":\",b)\n",
    "\n",
    "\n",
    "\n"
   ]
  },
  {
   "cell_type": "code",
   "execution_count": 5,
   "id": "066ef0c4-4a09-4596-bb69-94a4b5c75cad",
   "metadata": {},
   "outputs": [
    {
     "name": "stdout",
     "output_type": "stream",
     "text": [
      "{'Dictionary': 10, 'comprehensions': 14, 'nested,': 7, 'allowing': 8, 'create': 6, 'complex': 7, 'dictionaries.': 13, 'example': 7, 'creates': 7, 'dictionary': 10, 'letter': 6, 'counts': 6}\n"
     ]
    }
   ],
   "source": [
    "words = ['Dictionary', 'comprehensions', 'can', 'also', 'be', 'nested,', 'allowing', 'you', 'to', 'create', 'more', 'complex', 'dictionaries.', 'Here', 'is', 'an', 'example', 'that', 'creates', 'a', 'dictionary', 'of', 'letter','counts']\n",
    "\"\"\"print (word.lower())\"\"\"\n",
    "\n",
    "word_detail = {word: len(word) for word in words if len(word)>=5}\n",
    "print(word_detail)"
   ]
  },
  {
   "cell_type": "code",
   "execution_count": 53,
   "id": "e83d8218-9b1d-45ac-998a-5815bb48f113",
   "metadata": {},
   "outputs": [
    {
     "name": "stdout",
     "output_type": "stream",
     "text": [
      "Hello World\n"
     ]
    }
   ],
   "source": [
    "print(\"Hello\",\"World\",sep=\" \")\n",
    "\n",
    "\n"
   ]
  },
  {
   "cell_type": "code",
   "execution_count": null,
   "id": "805be651-85dc-4cf2-9c48-618b25bc2959",
   "metadata": {},
   "outputs": [],
   "source": []
  },
  {
   "cell_type": "code",
   "execution_count": null,
   "id": "b8e53e55-78ef-4aec-b8a2-ca38c08df0b4",
   "metadata": {},
   "outputs": [],
   "source": []
  }
 ],
 "metadata": {
  "kernelspec": {
   "display_name": "Python 3 (ipykernel)",
   "language": "python",
   "name": "python3"
  },
  "language_info": {
   "codemirror_mode": {
    "name": "ipython",
    "version": 3
   },
   "file_extension": ".py",
   "mimetype": "text/x-python",
   "name": "python",
   "nbconvert_exporter": "python",
   "pygments_lexer": "ipython3",
   "version": "3.12.5"
  }
 },
 "nbformat": 4,
 "nbformat_minor": 5
}
