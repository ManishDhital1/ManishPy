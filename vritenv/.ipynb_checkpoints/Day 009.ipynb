{
 "cells": [
  {
   "cell_type": "code",
   "execution_count": 1,
   "id": "cd623a8d-f957-47e1-9fb2-372ec68d29e3",
   "metadata": {},
   "outputs": [],
   "source": [
    "def add_numbers(num1, num2):\n",
    "    _sum = num1 + num2\n",
    "    return _sum"
   ]
  },
  {
   "cell_type": "code",
   "execution_count": 3,
   "id": "6d0550b5-ecda-43fd-b820-6fa1846fa231",
   "metadata": {},
   "outputs": [
    {
     "data": {
      "text/plain": [
       "2260"
      ]
     },
     "execution_count": 3,
     "metadata": {},
     "output_type": "execute_result"
    }
   ],
   "source": [
    "res = add_numbers(2256,4)\n",
    "res"
   ]
  },
  {
   "cell_type": "code",
   "execution_count": 6,
   "id": "171de88e-6023-4abf-bc87-2b624333bfec",
   "metadata": {},
   "outputs": [
    {
     "data": {
      "text/plain": [
       "77"
      ]
     },
     "execution_count": 6,
     "metadata": {},
     "output_type": "execute_result"
    }
   ],
   "source": [
    "st = add_numbers(55, 22)\n",
    "st"
   ]
  },
  {
   "cell_type": "code",
   "execution_count": 9,
   "id": "fd38aa1c-5389-40d0-8a8a-7f6103d706de",
   "metadata": {},
   "outputs": [],
   "source": [
    "def greet(name, greeting = \"Hello\"):\n",
    "    message = f\"{greeting}, {name}\"\n",
    "    return message\n",
    "    print (message)"
   ]
  },
  {
   "cell_type": "code",
   "execution_count": 11,
   "id": "a4576de3-e0de-4d1f-a23e-ee4a1eca29bc",
   "metadata": {},
   "outputs": [
    {
     "name": "stdout",
     "output_type": "stream",
     "text": [
      "Positional Arguments:\n",
      "1\n",
      "hello\n",
      "ram:\n"
     ]
    }
   ],
   "source": [
    "def my_printer(*args):\n",
    "    print(\"Positional Arguments:\")\n",
    "    for arg in args:\n",
    "        print(arg)\n",
    "\n",
    "result = my_printer(1, \"hello\", \"ram:\")"
   ]
  },
  {
   "cell_type": "code",
   "execution_count": 13,
   "id": "becc4bcf-79e1-4e32-aa8e-8379d610928c",
   "metadata": {},
   "outputs": [
    {
     "ename": "SyntaxError",
     "evalue": "invalid syntax (2069294808.py, line 7)",
     "output_type": "error",
     "traceback": [
      "\u001b[1;36m  Cell \u001b[1;32mIn[13], line 7\u001b[1;36m\u001b[0m\n\u001b[1;33m    for key, value in kwargs item:\u001b[0m\n\u001b[1;37m                             ^\u001b[0m\n\u001b[1;31mSyntaxError\u001b[0m\u001b[1;31m:\u001b[0m invalid syntax\n"
     ]
    }
   ],
   "source": [
    "def my_printer(*args):\n",
    "    print(\"Positional Arguments:\")\n",
    "    for arg in args:\n",
    "        print(arg)\n",
    "    print(\"-\"*30)\n",
    "    print (\"Keyword arguments:\")\n",
    "    for key, value in kwargs item:\n",
    "        print(key, \"=\", value\n",
    "        \n",
    "result = my_printer(1, \"hello\", \"ram:\")"
   ]
  },
  {
   "cell_type": "code",
   "execution_count": 30,
   "id": "ff709a03-8fd1-4511-9009-70d513ff3d4e",
   "metadata": {},
   "outputs": [],
   "source": [
    "def mean_square_error(*error):\n",
    "    total = sum(error)\n",
    "    mean = total/len(error)\n",
    "\n",
    "    return mean\n"
   ]
  },
  {
   "cell_type": "code",
   "execution_count": 36,
   "id": "61b8e682-2038-45d0-92bb-33c8b6b17489",
   "metadata": {},
   "outputs": [
    {
     "name": "stdout",
     "output_type": "stream",
     "text": [
      "1.6666666666666667\n"
     ]
    }
   ],
   "source": [
    "print (\n",
    "    mean_square_error(*[1, 2, 3, 1, 1, 2])\n",
    ")"
   ]
  },
  {
   "cell_type": "code",
   "execution_count": 42,
   "id": "9f870e2e-0bb7-4955-8c5c-c03e70ed2778",
   "metadata": {},
   "outputs": [],
   "source": [
    "def create_model(name, **kwargs):\n",
    "    model_name = name[\"nam\"]\n",
    "    model_size = kwargs[\"size\"]\n",
    "    model_type = kwargs [\"type\"]\n",
    "    return {model_name : f\"{model_type}_{model_size}\"}\n",
    "\n"
   ]
  },
  {
   "cell_type": "code",
   "execution_count": 43,
   "id": "5b63c532-b615-4d58-8f7f-73bc1ef37059",
   "metadata": {},
   "outputs": [
    {
     "ename": "TypeError",
     "evalue": "string indices must be integers, not 'str'",
     "output_type": "error",
     "traceback": [
      "\u001b[1;31m---------------------------------------------------------------------------\u001b[0m",
      "\u001b[1;31mTypeError\u001b[0m                                 Traceback (most recent call last)",
      "Cell \u001b[1;32mIn[43], line 1\u001b[0m\n\u001b[1;32m----> 1\u001b[0m \u001b[43mcreate_model\u001b[49m\u001b[43m \u001b[49m\u001b[43m(\u001b[49m\u001b[38;5;124;43m\"\u001b[39;49m\u001b[38;5;124;43mKL007\u001b[39;49m\u001b[38;5;124;43m\"\u001b[39;49m\u001b[43m)\u001b[49m\n",
      "Cell \u001b[1;32mIn[42], line 2\u001b[0m, in \u001b[0;36mcreate_model\u001b[1;34m(name, **kwargs)\u001b[0m\n\u001b[0;32m      1\u001b[0m \u001b[38;5;28;01mdef\u001b[39;00m \u001b[38;5;21mcreate_model\u001b[39m(name, \u001b[38;5;241m*\u001b[39m\u001b[38;5;241m*\u001b[39mkwargs):\n\u001b[1;32m----> 2\u001b[0m     model_name \u001b[38;5;241m=\u001b[39m \u001b[43mname\u001b[49m\u001b[43m[\u001b[49m\u001b[38;5;124;43m\"\u001b[39;49m\u001b[38;5;124;43mnam\u001b[39;49m\u001b[38;5;124;43m\"\u001b[39;49m\u001b[43m]\u001b[49m\n\u001b[0;32m      3\u001b[0m     model_size \u001b[38;5;241m=\u001b[39m kwargs[\u001b[38;5;124m\"\u001b[39m\u001b[38;5;124msize\u001b[39m\u001b[38;5;124m\"\u001b[39m]\n\u001b[0;32m      4\u001b[0m     model_type \u001b[38;5;241m=\u001b[39m kwargs [\u001b[38;5;124m\"\u001b[39m\u001b[38;5;124mtype\u001b[39m\u001b[38;5;124m\"\u001b[39m]\n",
      "\u001b[1;31mTypeError\u001b[0m: string indices must be integers, not 'str'"
     ]
    }
   ],
   "source": [
    "create_model (\"KL007\")"
   ]
  },
  {
   "cell_type": "code",
   "execution_count": 56,
   "id": "ff2c38d1-ede1-4d1e-8e69-65870e6530ff",
   "metadata": {},
   "outputs": [
    {
     "data": {
      "text/plain": [
       "25"
      ]
     },
     "execution_count": 56,
     "metadata": {},
     "output_type": "execute_result"
    }
   ],
   "source": [
    "square(5)"
   ]
  },
  {
   "cell_type": "code",
   "execution_count": 58,
   "id": "181975c5-cc88-43c3-acec-8d987b1f98d8",
   "metadata": {},
   "outputs": [],
   "source": [
    "def square(n=22):\n",
    "    \"Finding square of a number.\"\n",
    "    return n**2"
   ]
  },
  {
   "cell_type": "code",
   "execution_count": null,
   "id": "594193cd-b53c-4266-8853-f9d6a99b0f6b",
   "metadata": {},
   "outputs": [],
   "source": []
  },
  {
   "cell_type": "code",
   "execution_count": 54,
   "id": "a48decd5-5ca3-4fbe-b328-93a884ef3688",
   "metadata": {},
   "outputs": [
    {
     "data": {
      "text/plain": [
       "25"
      ]
     },
     "execution_count": 54,
     "metadata": {},
     "output_type": "execute_result"
    }
   ],
   "source": [
    "square(5)"
   ]
  },
  {
   "cell_type": "code",
   "execution_count": null,
   "id": "f6b4828e-c156-40cb-a6d9-46c335009940",
   "metadata": {},
   "outputs": [],
   "source": []
  },
  {
   "cell_type": "code",
   "execution_count": 68,
   "id": "70faf7ac-f1d2-4e46-9bee-38f57b8dabfe",
   "metadata": {},
   "outputs": [
    {
     "name": "stdout",
     "output_type": "stream",
     "text": [
      "16\n",
      "25\n"
     ]
    }
   ],
   "source": [
    "def power_value(base:int, exp:int = 2):\n",
    "    power_value = base**exp\n",
    "    return power_value\n",
    "    \n",
    "print(power_value(2,4))\n",
    "print(power_value(5))"
   ]
  },
  {
   "cell_type": "code",
   "execution_count": 69,
   "id": "94b49f7b-c344-49bf-906a-0b5e14286d49",
   "metadata": {},
   "outputs": [
    {
     "ename": "SyntaxError",
     "evalue": "invalid syntax. Perhaps you forgot a comma? (2992249039.py, line 1)",
     "output_type": "error",
     "traceback": [
      "\u001b[1;36m  Cell \u001b[1;32mIn[69], line 1\u001b[1;36m\u001b[0m\n\u001b[1;33m    a = int(input(\"Enter base no.\")\u001b[0m\n\u001b[1;37m            ^\u001b[0m\n\u001b[1;31mSyntaxError\u001b[0m\u001b[1;31m:\u001b[0m invalid syntax. Perhaps you forgot a comma?\n"
     ]
    }
   ],
   "source": [
    "a = int(input(\"Enter base no.\")\n",
    "b = int(input(\"Enter power value:\")\n",
    "\n",
    "if b=True:\n",
    "    ans = a**b\n",
    "elif:\n",
    "    ans = a**2\n",
    "print(ans)"
   ]
  },
  {
   "cell_type": "code",
   "execution_count": null,
   "id": "aafb03a3-d4b8-4060-b373-0fab4512a4df",
   "metadata": {},
   "outputs": [],
   "source": []
  },
  {
   "cell_type": "code",
   "execution_count": null,
   "id": "b397138c-f8c2-4cba-8bc2-55afac9efc7b",
   "metadata": {},
   "outputs": [],
   "source": []
  },
  {
   "cell_type": "code",
   "execution_count": null,
   "id": "20213c9a-dc6a-4bc2-b00e-b6a76faa45d1",
   "metadata": {},
   "outputs": [],
   "source": []
  },
  {
   "cell_type": "code",
   "execution_count": null,
   "id": "8d73eeab-19b1-4fd9-aab9-31db2d27f690",
   "metadata": {},
   "outputs": [],
   "source": []
  },
  {
   "cell_type": "code",
   "execution_count": null,
   "id": "30d3a6f7-f8f9-4a57-86c8-c763ea098a81",
   "metadata": {},
   "outputs": [],
   "source": []
  },
  {
   "cell_type": "code",
   "execution_count": null,
   "id": "589f9147-63a6-4e9b-9371-53c6d4fabe8f",
   "metadata": {},
   "outputs": [],
   "source": []
  },
  {
   "cell_type": "code",
   "execution_count": null,
   "id": "320ad785-2dd4-4397-aa00-7cbf49dabd65",
   "metadata": {},
   "outputs": [],
   "source": []
  },
  {
   "cell_type": "code",
   "execution_count": null,
   "id": "7fdc33b0-eb8e-4319-aac4-c94dff1bc2c4",
   "metadata": {},
   "outputs": [],
   "source": []
  },
  {
   "cell_type": "code",
   "execution_count": null,
   "id": "2e5de1eb-e331-47c2-b06a-c3344cc6a1d4",
   "metadata": {},
   "outputs": [],
   "source": []
  },
  {
   "cell_type": "code",
   "execution_count": null,
   "id": "de8fca6e-624f-4885-b44a-b66f26478559",
   "metadata": {},
   "outputs": [],
   "source": []
  },
  {
   "cell_type": "code",
   "execution_count": null,
   "id": "e5c7688a-8e0b-4304-9ca9-fa581d62f6b0",
   "metadata": {},
   "outputs": [],
   "source": []
  },
  {
   "cell_type": "code",
   "execution_count": null,
   "id": "31b0e407-2c73-4948-b2c0-2182bccc8793",
   "metadata": {},
   "outputs": [],
   "source": []
  },
  {
   "cell_type": "code",
   "execution_count": null,
   "id": "990d2d65-43bb-44de-8ae3-5f1f13a75e42",
   "metadata": {},
   "outputs": [],
   "source": []
  },
  {
   "cell_type": "code",
   "execution_count": null,
   "id": "4f74f4b6-0a3e-4f9a-bcd5-4c448e818ea3",
   "metadata": {},
   "outputs": [],
   "source": []
  },
  {
   "cell_type": "code",
   "execution_count": null,
   "id": "d8296b31-8a71-4e9e-b4ba-0cf24e2e210b",
   "metadata": {},
   "outputs": [],
   "source": []
  }
 ],
 "metadata": {
  "kernelspec": {
   "display_name": "Python 3 (ipykernel)",
   "language": "python",
   "name": "python3"
  },
  "language_info": {
   "codemirror_mode": {
    "name": "ipython",
    "version": 3
   },
   "file_extension": ".py",
   "mimetype": "text/x-python",
   "name": "python",
   "nbconvert_exporter": "python",
   "pygments_lexer": "ipython3",
   "version": "3.12.5"
  }
 },
 "nbformat": 4,
 "nbformat_minor": 5
}
