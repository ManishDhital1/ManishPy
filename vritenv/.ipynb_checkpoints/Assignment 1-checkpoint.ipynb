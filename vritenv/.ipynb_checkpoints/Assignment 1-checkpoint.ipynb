{
 "cells": [
  {
   "cell_type": "code",
   "execution_count": 9,
   "id": "2d1f04a4-d799-409c-8a39-24a7c6b11212",
   "metadata": {},
   "outputs": [
    {
     "name": "stdout",
     "output_type": "stream",
     "text": [
      "{'Dog-Buddy-8'}\n"
     ]
    }
   ],
   "source": [
    "def pet_details(**kwargs):\n",
    "    pet_name = kwargs [\"name\"] \n",
    "    pet_age = kwargs[\"age\"]\n",
    "    pet_type = kwargs[\"type\"]\n",
    "    return {f\"{pet_type}-{pet_name}-{pet_age}\"} \n",
    "_a = pet_details(name = \"Buddy\", age = 8, type = \"Dog\")\n",
    "print(_a)\n"
   ]
  },
  {
   "cell_type": "code",
   "execution_count": 33,
   "id": "adbf2205-7ca0-4e72-9a06-4fff4f569398",
   "metadata": {},
   "outputs": [
    {
     "data": {
      "text/plain": [
       "3.1622776601683795"
      ]
     },
     "execution_count": 33,
     "metadata": {},
     "output_type": "execute_result"
    }
   ],
   "source": [
    "\n",
    "def s_d(all_num):\n",
    "    n = len(all_num)\n",
    "    tot = sum(all_num)\n",
    "    mean = tot/n\n",
    "    _sum = 0\n",
    "    for x in all_num:\n",
    "        y = (x - mean) ** 2\n",
    "        _sum = _sum +y\n",
    "    res1 = _sum/n\n",
    "    std_dev = math.sqrt(res1)\n",
    "    \n",
    "    return std_dev\n",
    "s_d ([1,2,3,4,5,6,7,8,9,10,11])"
   ]
  },
  {
   "cell_type": "code",
   "execution_count": 1,
   "id": "ee9102e3-f4ef-4442-9ccf-c5de151adc82",
   "metadata": {},
   "outputs": [
    {
     "data": {
      "text/plain": [
       "3.1622776601683795"
      ]
     },
     "execution_count": 1,
     "metadata": {},
     "output_type": "execute_result"
    }
   ],
   "source": [
    "import math\n",
    "import math\n",
    "\n",
    "def s_d(all_num):\n",
    "    n = len(all_num)\n",
    "    tot = sum(all_num)\n",
    "    mean = tot/n\n",
    "    y = list((x - mean) ** 2 for x in all_num)\n",
    "    res = sum(y)\n",
    "    res1 = res/n\n",
    "    std_dev = math.sqrt(res1)\n",
    "    \n",
    "    return std_dev\n",
    "s_d ([1,2,3,4,5,6,7,8,9,10,11])"
   ]
  },
  {
   "cell_type": "code",
   "execution_count": null,
   "id": "dd065d3a",
   "metadata": {},
   "outputs": [],
   "source": []
  }
 ],
 "metadata": {
  "kernelspec": {
   "display_name": "Python 3 (ipykernel)",
   "language": "python",
   "name": "python3"
  },
  "language_info": {
   "codemirror_mode": {
    "name": "ipython",
    "version": 3
   },
   "file_extension": ".py",
   "mimetype": "text/x-python",
   "name": "python",
   "nbconvert_exporter": "python",
   "pygments_lexer": "ipython3",
   "version": "3.12.5"
  }
 },
 "nbformat": 4,
 "nbformat_minor": 5
}
