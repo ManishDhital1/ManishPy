{
 "cells": [
  {
   "cell_type": "code",
   "execution_count": 1,
   "id": "3913fc7f-411a-4e98-a8cc-c1d8699d9d65",
   "metadata": {},
   "outputs": [
    {
     "name": "stdout",
     "output_type": "stream",
     "text": [
      "1\n",
      "3\n",
      "5\n",
      "7\n",
      "9\n"
     ]
    }
   ],
   "source": [
    "i = 1\n",
    "while i<10:\n",
    "    print (i)\n",
    "    i=i+2"
   ]
  },
  {
   "cell_type": "code",
   "execution_count": 4,
   "id": "0f3c3567-f9ef-4984-9ab1-47ef27df88e8",
   "metadata": {},
   "outputs": [
    {
     "name": "stdout",
     "output_type": "stream",
     "text": [
      "1\n",
      "3\n",
      "5\n",
      "7\n",
      "9\n"
     ]
    }
   ],
   "source": [
    "i = 1\n",
    "while i<10:\n",
    "    print (i)\n",
    "    i=i+2"
   ]
  },
  {
   "cell_type": "code",
   "execution_count": 19,
   "id": "5cd69717-6ada-443d-8ed1-192684c4d9a1",
   "metadata": {},
   "outputs": [
    {
     "name": "stdout",
     "output_type": "stream",
     "text": [
      "12*a= 12\n",
      "12*a= 24\n",
      "12*a= 36\n",
      "12*a= 48\n",
      "12*a= 60\n",
      "12*a= 72\n",
      "12*a= 84\n",
      "12*a= 96\n",
      "12*a= 108\n",
      "12*a= 120\n"
     ]
    }
   ],
   "source": [
    "a=1\n",
    "n = 12\n",
    "while a<=10:\n",
    "    r = a*n\n",
    "    print(\"12*a=\", r)\n",
    "    a=a+1"
   ]
  },
  {
   "cell_type": "code",
   "execution_count": 21,
   "id": "b522a5fe-5640-4168-a79b-f0946cc28ac7",
   "metadata": {},
   "outputs": [
    {
     "name": "stdout",
     "output_type": "stream",
     "text": [
      "12 * 1 = 12\n",
      "12*1=12\n",
      "12 * 2 = 24\n",
      "12*2=24\n",
      "12 * 3 = 36\n",
      "12*3=36\n",
      "12 * 4 = 48\n",
      "12*4=48\n",
      "12 * 5 = 60\n",
      "12*5=60\n",
      "12 * 6 = 72\n",
      "12*6=72\n",
      "12 * 7 = 84\n",
      "12*7=84\n",
      "12 * 8 = 96\n",
      "12*8=96\n",
      "12 * 9 = 108\n",
      "12*9=108\n",
      "12 * 10 = 120\n",
      "12*10=120\n"
     ]
    }
   ],
   "source": [
    "a=1\n",
    "n = 12\n",
    "while a<=10:\n",
    "    res = a * n\n",
    "    print(\"12 *\", a, \"=\", res )\n",
    "    print(f\"12*{a}={res}\")\n",
    "    a=a+1"
   ]
  },
  {
   "cell_type": "code",
   "execution_count": 4,
   "id": "d9202397-e44a-40d8-ad6b-8e24361c81f0",
   "metadata": {},
   "outputs": [
    {
     "name": "stdout",
     "output_type": "stream",
     "text": [
      "10 * 1 = 10\n",
      "10 * 2 = 20\n",
      "10 * 3 = 30\n",
      "10 * 4 = 40\n",
      "10 * 5 = 50\n",
      "10 * 6 = 60\n",
      "10 * 7 = 70\n",
      "10 * 8 = 80\n",
      "10 * 9 = 90\n",
      "10 * 10 = 100\n"
     ]
    }
   ],
   "source": [
    "mul = 10\n",
    "i = 1\n",
    "while True:\n",
    "    res = mul * i\n",
    "    print(f\"{mul} * {i} = {res}\")\n",
    "    i +=1\n",
    "    if res>=100:\n",
    "        break"
   ]
  },
  {
   "cell_type": "code",
   "execution_count": 7,
   "id": "c6f56940-d1cf-4b2f-bb18-9e27d5beccd6",
   "metadata": {},
   "outputs": [
    {
     "name": "stdout",
     "output_type": "stream",
     "text": [
      "[1]\n",
      "[1, 4]\n",
      "[1, 4, 9]\n",
      "[1, 4, 9, 16]\n",
      "[1, 4, 9, 16, 25]\n",
      "[1, 4, 9, 16, 25, 36]\n",
      "[1, 4, 9, 16, 25, 36, 49]\n",
      "[1, 4, 9, 16, 25, 36, 49, 64]\n",
      "[1, 4, 9, 16, 25, 36, 49, 64, 81]\n"
     ]
    }
   ],
   "source": [
    "squared = []\n",
    "for i in range(1,10):\n",
    "    squared.append(i**2)\n",
    "    print(squared)"
   ]
  },
  {
   "cell_type": "code",
   "execution_count": 8,
   "id": "43c4bc83-5f45-4246-9a28-f2a1db39b376",
   "metadata": {},
   "outputs": [
    {
     "name": "stdout",
     "output_type": "stream",
     "text": [
      "[1, 4, 9, 16, 25, 36, 49, 64, 81, 100]\n"
     ]
    }
   ],
   "source": [
    "sqrd = [i**2 for i in range(1,11)]\n",
    "print(sqrd)"
   ]
  },
  {
   "cell_type": "code",
   "execution_count": 11,
   "id": "b8b2e644-6103-4641-96f7-9f052b7109b8",
   "metadata": {},
   "outputs": [
    {
     "name": "stdout",
     "output_type": "stream",
     "text": [
      "[8, 64, 216, 512, 1000, 1728, 2744, 4096, 5832, 8000, 10648, 13824]\n"
     ]
    }
   ],
   "source": [
    "sqred = [i**3 for i in range(1,26) if i%2==0]\n",
    "print(sqred)"
   ]
  },
  {
   "cell_type": "code",
   "execution_count": null,
   "id": "095e94d2-0508-4cb0-a3c5-9c2611c92410",
   "metadata": {},
   "outputs": [],
   "source": []
  },
  {
   "cell_type": "code",
   "execution_count": 14,
   "id": "ed6bec27-3e84-4c1a-93b9-1bd75a30ba2d",
   "metadata": {},
   "outputs": [
    {
     "name": "stdout",
     "output_type": "stream",
     "text": [
      "[6, 7, 6]\n"
     ]
    }
   ],
   "source": [
    "words = [\"Manish\", \"Sailesh\", \"Kushal\"]\n",
    "result = []\n",
    "for word in words:\n",
    "    result.append(len(word))\n",
    "print(result)"
   ]
  },
  {
   "cell_type": "code",
   "execution_count": 25,
   "id": "ff36e49c-69e7-479a-8d5c-1bc527b76468",
   "metadata": {},
   "outputs": [
    {
     "data": {
      "text/plain": [
       "[6, 6, 6]"
      ]
     },
     "execution_count": 25,
     "metadata": {},
     "output_type": "execute_result"
    }
   ],
   "source": [
    "words = [\"manish\", \"sailesh\", \"kushal\"]\n",
    "\n",
    "length = [len(set(word)) for word in words]\n",
    "length\n"
   ]
  },
  {
   "cell_type": "code",
   "execution_count": 27,
   "id": "51fbd0bc-4dc9-45d9-bb6d-0c38dd738fa4",
   "metadata": {},
   "outputs": [
    {
     "data": {
      "text/plain": [
       "{'a', 'e', 'o', 'u'}"
      ]
     },
     "execution_count": 27,
     "metadata": {},
     "output_type": "execute_result"
    }
   ],
   "source": [
    "sentence = \"a quick brown fox jumps over the lazy dog\"\n",
    "vowels = \"aeiou\"\n",
    "\n",
    "out = {i for i in sentence if i in vowels}\n",
    "out"
   ]
  },
  {
   "cell_type": "code",
   "execution_count": null,
   "id": "1d00a5a9-e685-45ea-9596-59542e5eeac8",
   "metadata": {},
   "outputs": [],
   "source": []
  }
 ],
 "metadata": {
  "kernelspec": {
   "display_name": "Python 3 (ipykernel)",
   "language": "python",
   "name": "python3"
  },
  "language_info": {
   "codemirror_mode": {
    "name": "ipython",
    "version": 3
   },
   "file_extension": ".py",
   "mimetype": "text/x-python",
   "name": "python",
   "nbconvert_exporter": "python",
   "pygments_lexer": "ipython3",
   "version": "3.12.5"
  }
 },
 "nbformat": 4,
 "nbformat_minor": 5
}
